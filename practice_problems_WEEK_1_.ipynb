{
  "nbformat": 4,
  "nbformat_minor": 0,
  "metadata": {
    "colab": {
      "provenance": []
    },
    "kernelspec": {
      "name": "python3",
      "display_name": "Python 3"
    },
    "language_info": {
      "name": "python"
    }
  },
  "cells": [
    {
      "cell_type": "markdown",
      "source": [
        "Q1 SUM OF 2 NUMBERS"
      ],
      "metadata": {
        "id": "oX7ahUgRxrwj"
      }
    },
    {
      "cell_type": "code",
      "execution_count": null,
      "metadata": {
        "colab": {
          "base_uri": "https://localhost:8080/"
        },
        "id": "ycuxnnXXhZyd",
        "outputId": "cd8f1961-4f32-436d-9c40-2afb7222247d"
      },
      "outputs": [
        {
          "output_type": "stream",
          "name": "stdout",
          "text": [
            "Enter first number:5\n",
            "Enter second number:5\n",
            "10\n"
          ]
        }
      ],
      "source": [
        "a=int(input('Enter first number:'))\n",
        "b=int(input('Enter second number:'))\n",
        "s=a+b\n",
        "print(s)"
      ]
    },
    {
      "cell_type": "markdown",
      "source": [
        "Q2 product of 2 numbers"
      ],
      "metadata": {
        "id": "DLiwaPrVkrK6"
      }
    },
    {
      "cell_type": "code",
      "source": [
        "a=int(input('Enter first number:'))\n",
        "b=int(input('Enter second number:'))\n",
        "s=a*b\n",
        "print(s)"
      ],
      "metadata": {
        "colab": {
          "base_uri": "https://localhost:8080/"
        },
        "id": "ajX4dkxyhxKq",
        "outputId": "7180762e-e5fc-4b42-b813-e38e2fa6b432"
      },
      "execution_count": null,
      "outputs": [
        {
          "output_type": "stream",
          "name": "stdout",
          "text": [
            "Enter first number:5\n",
            "Enter second number:5\n",
            "25\n"
          ]
        }
      ]
    },
    {
      "cell_type": "markdown",
      "source": [
        "Q3 quotient and reminder of 2 numbers\n",
        "\n"
      ],
      "metadata": {
        "id": "H96ytsZckwKy"
      }
    },
    {
      "cell_type": "code",
      "source": [
        "a=int(input('Enter first number:'))\n",
        "b=int(input('Enter second number:'))\n",
        "s=a/b\n",
        "d=a%b\n",
        "print(s)\n",
        "print(d)"
      ],
      "metadata": {
        "colab": {
          "base_uri": "https://localhost:8080/"
        },
        "id": "ouHqixcviEA5",
        "outputId": "0f3d59f8-e961-4902-9b20-5ac472111564"
      },
      "execution_count": null,
      "outputs": [
        {
          "output_type": "stream",
          "name": "stdout",
          "text": [
            "Enter first number:10\n",
            "Enter second number:2\n",
            "5.0\n",
            "0\n"
          ]
        }
      ]
    },
    {
      "cell_type": "markdown",
      "source": [
        "Q4 length of a string"
      ],
      "metadata": {
        "id": "FYxpZT1Tk3Gx"
      }
    },
    {
      "cell_type": "code",
      "source": [
        "s='Doll'"
      ],
      "metadata": {
        "id": "ORqpGV_pimVq"
      },
      "execution_count": 3,
      "outputs": []
    },
    {
      "cell_type": "code",
      "source": [
        "len(s)"
      ],
      "metadata": {
        "colab": {
          "base_uri": "https://localhost:8080/"
        },
        "id": "SaiKXmookIEq",
        "outputId": "4808cc65-01f3-4a06-a4e9-3f1ba7f4bd1f"
      },
      "execution_count": 4,
      "outputs": [
        {
          "output_type": "execute_result",
          "data": {
            "text/plain": [
              "4"
            ]
          },
          "metadata": {},
          "execution_count": 4
        }
      ]
    },
    {
      "cell_type": "markdown",
      "source": [
        "Q6 convert a string to all uppercase"
      ],
      "metadata": {
        "id": "tggHXui7lG8E"
      }
    },
    {
      "cell_type": "code",
      "source": [
        "d='dance'"
      ],
      "metadata": {
        "id": "Uz3-ZhiLkLNK"
      },
      "execution_count": 5,
      "outputs": []
    },
    {
      "cell_type": "code",
      "source": [
        "d.upper()"
      ],
      "metadata": {
        "colab": {
          "base_uri": "https://localhost:8080/",
          "height": 36
        },
        "id": "etgyU_QblYY3",
        "outputId": "720d93d6-a297-4fa8-af9f-a178e99e5e38"
      },
      "execution_count": 6,
      "outputs": [
        {
          "output_type": "execute_result",
          "data": {
            "text/plain": [
              "'DANCE'"
            ],
            "application/vnd.google.colaboratory.intrinsic+json": {
              "type": "string"
            }
          },
          "metadata": {},
          "execution_count": 6
        }
      ]
    },
    {
      "cell_type": "markdown",
      "source": [
        "Q7 converting a string to all lower case"
      ],
      "metadata": {
        "id": "YZ7O-moWlff_"
      }
    },
    {
      "cell_type": "code",
      "source": [
        "d.lower()"
      ],
      "metadata": {
        "colab": {
          "base_uri": "https://localhost:8080/",
          "height": 36
        },
        "id": "smbL2sLzldem",
        "outputId": "84d376f0-b678-415d-8475-ffef3f120ef0"
      },
      "execution_count": 7,
      "outputs": [
        {
          "output_type": "execute_result",
          "data": {
            "text/plain": [
              "'dance'"
            ],
            "application/vnd.google.colaboratory.intrinsic+json": {
              "type": "string"
            }
          },
          "metadata": {},
          "execution_count": 7
        }
      ]
    },
    {
      "cell_type": "markdown",
      "source": [
        "Q5 number of occurence of a character in string"
      ],
      "metadata": {
        "id": "MnSG4BQGl9yc"
      }
    },
    {
      "cell_type": "code",
      "source": [
        "s='perseverance'"
      ],
      "metadata": {
        "id": "EYfoBZk4lm_G"
      },
      "execution_count": null,
      "outputs": []
    },
    {
      "cell_type": "code",
      "source": [
        "s.count('e')"
      ],
      "metadata": {
        "colab": {
          "base_uri": "https://localhost:8080/"
        },
        "id": "ndCW89RpmlHk",
        "outputId": "71a3aa3d-ac18-41aa-f091-17b8d5900d06"
      },
      "execution_count": null,
      "outputs": [
        {
          "output_type": "execute_result",
          "data": {
            "text/plain": [
              "4"
            ]
          },
          "metadata": {},
          "execution_count": 15
        }
      ]
    }
  ]
}