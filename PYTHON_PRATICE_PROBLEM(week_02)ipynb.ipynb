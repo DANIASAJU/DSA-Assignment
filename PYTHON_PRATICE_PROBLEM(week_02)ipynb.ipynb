{
  "nbformat": 4,
  "nbformat_minor": 0,
  "metadata": {
    "colab": {
      "provenance": []
    },
    "kernelspec": {
      "name": "python3",
      "display_name": "Python 3"
    },
    "language_info": {
      "name": "python"
    }
  },
  "cells": [
    {
      "cell_type": "markdown",
      "source": [
        "QUESTION 1"
      ],
      "metadata": {
        "id": "0EIN8VEU6SKN"
      }
    },
    {
      "cell_type": "code",
      "source": [
        "a=int(input('enter length'))\n",
        "b=int(input('enter breadth'))\n",
        "A=a*b\n",
        "print(A)"
      ],
      "metadata": {
        "colab": {
          "base_uri": "https://localhost:8080/"
        },
        "id": "otYAHZH56kGv",
        "outputId": "d8c45f83-1d70-48b2-a3f5-a968fde0c604"
      },
      "execution_count": null,
      "outputs": [
        {
          "output_type": "stream",
          "name": "stdout",
          "text": [
            "enter length2\n",
            "enter breadth3\n",
            "6\n"
          ]
        }
      ]
    },
    {
      "cell_type": "markdown",
      "source": [
        "QUESTION 2"
      ],
      "metadata": {
        "id": "jZ9vM4RW6vLK"
      }
    },
    {
      "cell_type": "code",
      "source": [
        "a=int(input('enter a number:'))\n",
        "b=int(input('enter a number:'))\n",
        "S=a+b\n",
        "D=a-b\n",
        "P=a*b\n",
        "Q=a%b\n",
        "print(S)\n",
        "print(D)\n",
        "print(P)\n",
        "print(Q)"
      ],
      "metadata": {
        "colab": {
          "base_uri": "https://localhost:8080/"
        },
        "id": "mM-SCTwt6pyw",
        "outputId": "6ca310b1-bcae-49f7-db59-217681ab1983"
      },
      "execution_count": null,
      "outputs": [
        {
          "output_type": "stream",
          "name": "stdout",
          "text": [
            "enter a number:42\n",
            "enter a number:2\n",
            "44\n",
            "40\n",
            "84\n",
            "0\n"
          ]
        }
      ]
    },
    {
      "cell_type": "markdown",
      "source": [
        "QUESTION 3"
      ],
      "metadata": {
        "id": "91b9t8hA4glx"
      }
    },
    {
      "cell_type": "code",
      "source": [
        "t=float(input('enter the temperature:'))\n",
        "print('1.fahrenheit to celcius')\n",
        "print('2.celcius to fahrenheit')\n",
        "ch=int(input(\"enter choice 1 or2\"))\n",
        "if ch==1:\n",
        "  t1=((5/9)*(t-32))\n",
        "elif ch==2:\n",
        "  t1=((9/5)*t)+32\n",
        "else:\n",
        "  print(\"wrong choice of input\")\n",
        "print(t1)"
      ],
      "metadata": {
        "colab": {
          "base_uri": "https://localhost:8080/"
        },
        "id": "SIdvX2JJ4gIC",
        "outputId": "fb6a070e-073f-40f3-a740-932ce3c91530"
      },
      "execution_count": null,
      "outputs": [
        {
          "output_type": "stream",
          "name": "stdout",
          "text": [
            "enter the temperature:20\n",
            "1.fahrenheit to celcius\n",
            "2.celcius to fahrenheit\n",
            "enter choice 1 or22\n",
            "68.0\n"
          ]
        }
      ]
    },
    {
      "cell_type": "markdown",
      "source": [
        "QUESTION 4"
      ],
      "metadata": {
        "id": "YCGLbdGm68EK"
      }
    },
    {
      "cell_type": "code",
      "source": [
        "n=float(input('enter a number'))\n",
        "if n>0:\n",
        "  print('positive')\n",
        "elif n<0:\n",
        "  print('negitive')\n",
        "else:\n",
        "  print('zero')"
      ],
      "metadata": {
        "colab": {
          "base_uri": "https://localhost:8080/"
        },
        "id": "M0i2ELav63Ue",
        "outputId": "070deeb0-6620-47a2-b93b-e429eca2bed9"
      },
      "execution_count": null,
      "outputs": [
        {
          "output_type": "stream",
          "name": "stdout",
          "text": [
            "enter a number42\n",
            "positive\n"
          ]
        }
      ]
    },
    {
      "cell_type": "markdown",
      "source": [
        "QUESTION 5"
      ],
      "metadata": {
        "id": "4o-PEapp7Wz7"
      }
    },
    {
      "cell_type": "code",
      "source": [
        "year=int(input('enter a number:'))\n",
        "if year%4==0 and year%100!=0 or year%400==0:\n",
        "  print('year is a leap year')\n",
        "else :\n",
        "  print('year is not a leap year')"
      ],
      "metadata": {
        "colab": {
          "base_uri": "https://localhost:8080/"
        },
        "id": "LDfbLWRa7OD5",
        "outputId": "2630db07-d724-4630-d117-2c5a97ba22a9"
      },
      "execution_count": null,
      "outputs": [
        {
          "output_type": "stream",
          "name": "stdout",
          "text": [
            "enter a number:2100\n",
            "year is not a leap year\n"
          ]
        }
      ]
    },
    {
      "cell_type": "markdown",
      "source": [
        "QUESTION 6"
      ],
      "metadata": {
        "id": "aO4IJvEW7gpC"
      }
    },
    {
      "cell_type": "code",
      "source": [
        "n=int(input('enter a number'))\n",
        "if 90<=n<=100:\n",
        "  print('A')\n",
        "elif 80<=n<=89:\n",
        "    print('B')\n",
        "elif 70<=n<=79:\n",
        "  print('C')\n",
        "elif 60<=n<=69:\n",
        "  print('D')\n",
        "elif 0<=n<=59:\n",
        "  print('F')\n",
        "else:\n",
        "  print ('invalid')"
      ],
      "metadata": {
        "colab": {
          "base_uri": "https://localhost:8080/"
        },
        "id": "-HfRCrHY7cqu",
        "outputId": "06ee7696-f08b-4020-c771-0aa0ad24fa9a"
      },
      "execution_count": null,
      "outputs": [
        {
          "output_type": "stream",
          "name": "stdout",
          "text": [
            "enter a number98\n",
            "A\n"
          ]
        }
      ]
    },
    {
      "cell_type": "markdown",
      "source": [
        "QUESTION 7"
      ],
      "metadata": {
        "id": "wS_G9vG17qH1"
      }
    },
    {
      "cell_type": "code",
      "source": [
        "for n in range(10,0,-1):\n",
        "  print(n)"
      ],
      "metadata": {
        "colab": {
          "base_uri": "https://localhost:8080/"
        },
        "id": "5KB4fDzD7tu_",
        "outputId": "c38feaad-134f-4a4b-bff2-d33a78e4e03c"
      },
      "execution_count": null,
      "outputs": [
        {
          "output_type": "stream",
          "name": "stdout",
          "text": [
            "10\n",
            "9\n",
            "8\n",
            "7\n",
            "6\n",
            "5\n",
            "4\n",
            "3\n",
            "2\n",
            "1\n"
          ]
        }
      ]
    },
    {
      "cell_type": "markdown",
      "source": [
        "QUESTION 8"
      ],
      "metadata": {
        "id": "ubSW4HEe70rL"
      }
    },
    {
      "cell_type": "code",
      "source": [
        "for n in range (2,21,2):\n",
        "  print(n)"
      ],
      "metadata": {
        "colab": {
          "base_uri": "https://localhost:8080/"
        },
        "id": "-8dkQwGa7y2H",
        "outputId": "e9c3db3c-94dc-47b6-f98d-dba275ed371b"
      },
      "execution_count": null,
      "outputs": [
        {
          "output_type": "stream",
          "name": "stdout",
          "text": [
            "2\n",
            "4\n",
            "6\n",
            "8\n",
            "10\n",
            "12\n",
            "14\n",
            "16\n",
            "18\n",
            "20\n"
          ]
        }
      ]
    },
    {
      "cell_type": "markdown",
      "source": [
        "QUESTION 9"
      ],
      "metadata": {
        "id": "bdskplzm8QFy"
      }
    },
    {
      "cell_type": "code",
      "source": [
        "a=int(input('enter a number:'))\n",
        "for i in range(1,11):\n",
        "  s=a*i\n",
        "  print(s)"
      ],
      "metadata": {
        "colab": {
          "base_uri": "https://localhost:8080/"
        },
        "id": "Q0zVMYma8N9k",
        "outputId": "690aed26-7a06-4ea7-cf0b-65095f8b3b78"
      },
      "execution_count": null,
      "outputs": [
        {
          "output_type": "stream",
          "name": "stdout",
          "text": [
            "enter a number:5\n",
            "5\n",
            "10\n",
            "15\n",
            "20\n",
            "25\n",
            "30\n",
            "35\n",
            "40\n",
            "45\n",
            "50\n"
          ]
        }
      ]
    },
    {
      "cell_type": "code",
      "source": [],
      "metadata": {
        "id": "jdChPm4q8X5u"
      },
      "execution_count": null,
      "outputs": []
    }
  ]
}