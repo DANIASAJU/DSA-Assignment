{
  "cells": [
    {
      "cell_type": "markdown",
      "id": "681549c0",
      "metadata": {
        "id": "681549c0"
      },
      "source": [
        "Q1. Create a NumPy array of integers from 1 to 10"
      ]
    },
    {
      "cell_type": "code",
      "execution_count": null,
      "id": "60a13353",
      "metadata": {
        "id": "60a13353"
      },
      "outputs": [],
      "source": [
        "import numpy as np"
      ]
    },
    {
      "cell_type": "code",
      "execution_count": null,
      "id": "e6a1a427",
      "metadata": {
        "id": "e6a1a427"
      },
      "outputs": [],
      "source": [
        "arr1=np.arange(1,11)"
      ]
    },
    {
      "cell_type": "code",
      "execution_count": null,
      "id": "55750181",
      "metadata": {
        "id": "55750181",
        "outputId": "06a7d748-234a-46c7-a069-781d945d47c3"
      },
      "outputs": [
        {
          "data": {
            "text/plain": [
              "array([ 1,  2,  3,  4,  5,  6,  7,  8,  9, 10])"
            ]
          },
          "execution_count": 8,
          "metadata": {},
          "output_type": "execute_result"
        }
      ],
      "source": [
        "arr1"
      ]
    },
    {
      "cell_type": "markdown",
      "id": "b40ceddf",
      "metadata": {
        "id": "b40ceddf"
      },
      "source": [
        "Q2. Create a 2x3 NumPy array filled with zeros\n"
      ]
    },
    {
      "cell_type": "code",
      "execution_count": null,
      "id": "96e43063",
      "metadata": {
        "id": "96e43063"
      },
      "outputs": [],
      "source": [
        "arr2=np.zeros((2,3))"
      ]
    },
    {
      "cell_type": "code",
      "execution_count": null,
      "id": "5d76743c",
      "metadata": {
        "id": "5d76743c",
        "outputId": "4ad03970-f1f7-4221-a45c-a5447861d10a"
      },
      "outputs": [
        {
          "data": {
            "text/plain": [
              "array([[0., 0., 0.],\n",
              "       [0., 0., 0.]])"
            ]
          },
          "execution_count": 11,
          "metadata": {},
          "output_type": "execute_result"
        }
      ],
      "source": [
        "arr2"
      ]
    },
    {
      "cell_type": "markdown",
      "id": "912b7681",
      "metadata": {
        "id": "912b7681"
      },
      "source": [
        "Q3. Create a NumPy array of even numbers from 2 to 20."
      ]
    },
    {
      "cell_type": "code",
      "execution_count": null,
      "id": "6485edb7",
      "metadata": {
        "id": "6485edb7"
      },
      "outputs": [],
      "source": [
        "arr3=np.arange(2,21,2)"
      ]
    },
    {
      "cell_type": "code",
      "execution_count": null,
      "id": "8c6e9e80",
      "metadata": {
        "id": "8c6e9e80",
        "outputId": "7e1ba470-b14f-448d-9f94-70c6aa0ee03a"
      },
      "outputs": [
        {
          "data": {
            "text/plain": [
              "array([ 2,  4,  6,  8, 10, 12, 14, 16, 18, 20])"
            ]
          },
          "execution_count": 13,
          "metadata": {},
          "output_type": "execute_result"
        }
      ],
      "source": [
        "arr3"
      ]
    },
    {
      "cell_type": "markdown",
      "id": "2bc6338f",
      "metadata": {
        "id": "2bc6338f"
      },
      "source": [
        " Q4. Given two NumPy arrays, arr1 = np.array([1, 2, 3]) and arr2 = np.array([4,\n",
        "5, 6]), perform element-wise addition, subtraction, multiplication, and\n",
        "division between the two arrays"
      ]
    },
    {
      "cell_type": "code",
      "execution_count": null,
      "id": "0f689771",
      "metadata": {
        "id": "0f689771"
      },
      "outputs": [],
      "source": [
        "arr1=np.array([1,2,3])"
      ]
    },
    {
      "cell_type": "code",
      "execution_count": null,
      "id": "285cde56",
      "metadata": {
        "id": "285cde56"
      },
      "outputs": [],
      "source": [
        "arr2=np.array([4,5,6])"
      ]
    },
    {
      "cell_type": "code",
      "execution_count": null,
      "id": "63ac976a",
      "metadata": {
        "id": "63ac976a",
        "outputId": "78bb9eff-486f-431f-9550-e85ffd4f9b25"
      },
      "outputs": [
        {
          "data": {
            "text/plain": [
              "array([5, 7, 9])"
            ]
          },
          "execution_count": 24,
          "metadata": {},
          "output_type": "execute_result"
        }
      ],
      "source": [
        "arr3=arr1+arr2\n",
        "arr3"
      ]
    },
    {
      "cell_type": "code",
      "execution_count": null,
      "id": "07ac68be",
      "metadata": {
        "id": "07ac68be",
        "outputId": "40d01c59-0618-4882-f36f-67bdc845dd77"
      },
      "outputs": [
        {
          "data": {
            "text/plain": [
              "array([-3, -3, -3])"
            ]
          },
          "execution_count": 25,
          "metadata": {},
          "output_type": "execute_result"
        }
      ],
      "source": [
        "arr4=arr1-arr2\n",
        "arr4"
      ]
    },
    {
      "cell_type": "code",
      "execution_count": null,
      "id": "9d74d7ca",
      "metadata": {
        "id": "9d74d7ca",
        "outputId": "fd56f57c-3dcd-47c3-8921-dd00ad1cdb70"
      },
      "outputs": [
        {
          "data": {
            "text/plain": [
              "array([ 4, 10, 18])"
            ]
          },
          "execution_count": 26,
          "metadata": {},
          "output_type": "execute_result"
        }
      ],
      "source": [
        "arr5=arr1*arr2\n",
        "arr5"
      ]
    },
    {
      "cell_type": "code",
      "execution_count": null,
      "id": "f32aa4d2",
      "metadata": {
        "id": "f32aa4d2",
        "outputId": "5e9a83af-1454-4238-dff1-37c55d536139"
      },
      "outputs": [
        {
          "data": {
            "text/plain": [
              "array([0.25, 0.4 , 0.5 ])"
            ]
          },
          "execution_count": 27,
          "metadata": {},
          "output_type": "execute_result"
        }
      ],
      "source": [
        "arr6=arr1/arr2\n",
        "arr6"
      ]
    },
    {
      "cell_type": "markdown",
      "id": "b5258434",
      "metadata": {
        "id": "b5258434"
      },
      "source": [
        "Q5. Compute the mean, median, and standard deviation of a NumPy array\n",
        "containing 100 random numbers."
      ]
    },
    {
      "cell_type": "code",
      "execution_count": null,
      "id": "b0365acb",
      "metadata": {
        "id": "b0365acb"
      },
      "outputs": [],
      "source": [
        "arr1=np.random.rand(100)"
      ]
    },
    {
      "cell_type": "code",
      "execution_count": null,
      "id": "221e44b9",
      "metadata": {
        "id": "221e44b9",
        "outputId": "239a1d90-a777-45e3-8971-a243a8b65aae",
        "colab": {
          "base_uri": "https://localhost:8080/"
        }
      },
      "outputs": [
        {
          "output_type": "execute_result",
          "data": {
            "text/plain": [
              "array([0.60197261, 0.79880924, 0.61533876, 0.77430718, 0.73079552,\n",
              "       0.36563658, 0.44795209, 0.67121786, 0.70505151, 0.56902651,\n",
              "       0.55321741, 0.14977355, 0.63424281, 0.13250966, 0.95284332,\n",
              "       0.87051304, 0.85388673, 0.69504304, 0.93160364, 0.44617148,\n",
              "       0.65428696, 0.3322454 , 0.25616156, 0.89667135, 0.70561906,\n",
              "       0.38114836, 0.37113347, 0.46094099, 0.80528571, 0.01842903,\n",
              "       0.93121798, 0.70178109, 0.71371205, 0.17704656, 0.27155348,\n",
              "       0.21346674, 0.1437542 , 0.84624696, 0.50811895, 0.48759391,\n",
              "       0.04263484, 0.82959358, 0.0188318 , 0.00118005, 0.85753281,\n",
              "       0.19529599, 0.83094555, 0.18350736, 0.51696301, 0.45709972,\n",
              "       0.95590029, 0.79918931, 0.30508935, 0.53050962, 0.61031093,\n",
              "       0.18985786, 0.56647699, 0.74713738, 0.38678938, 0.13249444,\n",
              "       0.76470804, 0.93567743, 0.42930102, 0.87439806, 0.9803012 ,\n",
              "       0.31284762, 0.15648214, 0.78825402, 0.12428994, 0.34479283,\n",
              "       0.73069529, 0.85602881, 0.39976697, 0.74434831, 0.01319569,\n",
              "       0.67020464, 0.3462031 , 0.40619354, 0.15114927, 0.29764353,\n",
              "       0.66235623, 0.74439559, 0.0133276 , 0.75975288, 0.51232499,\n",
              "       0.23581087, 0.3561559 , 0.49187714, 0.68917527, 0.29383384,\n",
              "       0.65444403, 0.17479853, 0.52719853, 0.06681546, 0.34721766,\n",
              "       0.59450504, 0.62942435, 0.35097911, 0.54414533, 0.97551015])"
            ]
          },
          "metadata": {},
          "execution_count": 8
        }
      ],
      "source": [
        "arr1"
      ]
    },
    {
      "cell_type": "code",
      "execution_count": null,
      "id": "5e09125d",
      "metadata": {
        "id": "5e09125d",
        "outputId": "93f35000-72cb-476a-bc33-544b89f51354",
        "colab": {
          "base_uri": "https://localhost:8080/"
        }
      },
      "outputs": [
        {
          "output_type": "execute_result",
          "data": {
            "text/plain": [
              "0.48254515420337685"
            ]
          },
          "metadata": {},
          "execution_count": 13
        }
      ],
      "source": [
        "arr1.mean()"
      ]
    },
    {
      "cell_type": "code",
      "source": [
        "np.median(arr1)"
      ],
      "metadata": {
        "colab": {
          "base_uri": "https://localhost:8080/"
        },
        "id": "B5082JISp4GX",
        "outputId": "9d4e58f6-d604-4395-98b9-79cbc47a2f77"
      },
      "id": "B5082JISp4GX",
      "execution_count": null,
      "outputs": [
        {
          "output_type": "execute_result",
          "data": {
            "text/plain": [
              "0.464370666112644"
            ]
          },
          "metadata": {},
          "execution_count": 10
        }
      ]
    },
    {
      "cell_type": "code",
      "source": [
        "arr1.std()"
      ],
      "metadata": {
        "colab": {
          "base_uri": "https://localhost:8080/"
        },
        "id": "ukJ-1Cneq3sQ",
        "outputId": "565fe6c9-ea32-4cb6-9080-fd828aa79456"
      },
      "id": "ukJ-1Cneq3sQ",
      "execution_count": null,
      "outputs": [
        {
          "output_type": "execute_result",
          "data": {
            "text/plain": [
              "0.30858678606912765"
            ]
          },
          "metadata": {},
          "execution_count": 14
        }
      ]
    },
    {
      "cell_type": "markdown",
      "source": [
        "Q6. Reshape a 1D NumPy array of 12 random elements into a 2D array with a\n",
        "shape of (3, 4)."
      ],
      "metadata": {
        "id": "nG8rGVHpbJkV"
      },
      "id": "nG8rGVHpbJkV"
    },
    {
      "cell_type": "code",
      "source": [
        "arr6=np.random.rand(12)"
      ],
      "metadata": {
        "id": "CVHLzlL3V24d"
      },
      "id": "CVHLzlL3V24d",
      "execution_count": null,
      "outputs": []
    },
    {
      "cell_type": "code",
      "source": [
        "arr6"
      ],
      "metadata": {
        "colab": {
          "base_uri": "https://localhost:8080/"
        },
        "id": "ToNhgPlvZ-Wc",
        "outputId": "d8b968db-adab-49b7-b20b-006d42d594c5"
      },
      "id": "ToNhgPlvZ-Wc",
      "execution_count": null,
      "outputs": [
        {
          "output_type": "execute_result",
          "data": {
            "text/plain": [
              "array([0.37396335, 0.40489828, 0.61264279, 0.1171641 , 0.89928402,\n",
              "       0.19000119, 0.02419502, 0.58377213, 0.70714524, 0.01643797,\n",
              "       0.23990963, 0.7813828 ])"
            ]
          },
          "metadata": {},
          "execution_count": 11
        }
      ]
    },
    {
      "cell_type": "code",
      "source": [
        "arr6.reshape(3,4)"
      ],
      "metadata": {
        "id": "0N61luc4V_ff",
        "colab": {
          "base_uri": "https://localhost:8080/"
        },
        "outputId": "8eb85c54-7e14-4bbf-ff35-23009919f47f"
      },
      "id": "0N61luc4V_ff",
      "execution_count": null,
      "outputs": [
        {
          "output_type": "execute_result",
          "data": {
            "text/plain": [
              "array([[0.37396335, 0.40489828, 0.61264279, 0.1171641 ],\n",
              "       [0.89928402, 0.19000119, 0.02419502, 0.58377213],\n",
              "       [0.70714524, 0.01643797, 0.23990963, 0.7813828 ]])"
            ]
          },
          "metadata": {},
          "execution_count": 12
        }
      ]
    },
    {
      "cell_type": "markdown",
      "source": [
        "Q7. Given a NumPy array arr = np.array([1, 2, 3, 4, 5]), square each element in\n",
        "the array using NumPy functions."
      ],
      "metadata": {
        "id": "WarWzfjpci3f"
      },
      "id": "WarWzfjpci3f"
    },
    {
      "cell_type": "code",
      "source": [
        "arr7=([1,2,3,4,5])"
      ],
      "metadata": {
        "id": "eIjDiQj5aU9a"
      },
      "id": "eIjDiQj5aU9a",
      "execution_count": null,
      "outputs": []
    },
    {
      "cell_type": "code",
      "source": [
        "np.square(arr7)"
      ],
      "metadata": {
        "colab": {
          "base_uri": "https://localhost:8080/"
        },
        "id": "GKmPP-t1djkz",
        "outputId": "db6366a7-c1d2-47db-8de8-d4097c7a0ee2"
      },
      "id": "GKmPP-t1djkz",
      "execution_count": null,
      "outputs": [
        {
          "output_type": "execute_result",
          "data": {
            "text/plain": [
              "array([ 1,  4,  9, 16, 25])"
            ]
          },
          "metadata": {},
          "execution_count": 17
        }
      ]
    },
    {
      "cell_type": "markdown",
      "source": [
        "Q8. Create a 5x5 identity matrix using NumPy"
      ],
      "metadata": {
        "id": "sqo4bNE2d1QQ"
      },
      "id": "sqo4bNE2d1QQ"
    },
    {
      "cell_type": "code",
      "source": [
        "arr8=np.eye(5,5)\n",
        "arr8"
      ],
      "metadata": {
        "id": "pjMPqnZBdv06",
        "colab": {
          "base_uri": "https://localhost:8080/"
        },
        "outputId": "62c25484-5b90-4b1f-84ea-77eebd4a86e0"
      },
      "id": "pjMPqnZBdv06",
      "execution_count": null,
      "outputs": [
        {
          "output_type": "execute_result",
          "data": {
            "text/plain": [
              "array([[1., 0., 0., 0., 0.],\n",
              "       [0., 1., 0., 0., 0.],\n",
              "       [0., 0., 1., 0., 0.],\n",
              "       [0., 0., 0., 1., 0.],\n",
              "       [0., 0., 0., 0., 1.]])"
            ]
          },
          "metadata": {},
          "execution_count": 22
        }
      ]
    },
    {
      "cell_type": "markdown",
      "source": [
        "Q9. Calculate the dot product of two NumPy arrays, a = np.array([1, 2, 3]) and\n",
        "b = np.array([4, 5, 6])."
      ],
      "metadata": {
        "id": "6U3RdWVpfHId"
      },
      "id": "6U3RdWVpfHId"
    },
    {
      "cell_type": "code",
      "source": [
        "a=np.array([1,2,3])"
      ],
      "metadata": {
        "id": "V9f2Q8OReVeK"
      },
      "id": "V9f2Q8OReVeK",
      "execution_count": null,
      "outputs": []
    },
    {
      "cell_type": "code",
      "source": [
        "b=np.array([4,5,6])"
      ],
      "metadata": {
        "id": "mCz5tRTofVew"
      },
      "id": "mCz5tRTofVew",
      "execution_count": null,
      "outputs": []
    },
    {
      "cell_type": "code",
      "source": [
        "a.dot(b)"
      ],
      "metadata": {
        "id": "c2BJByHoflG5",
        "outputId": "767d876b-744a-4436-b211-9b4ead3140ac",
        "colab": {
          "base_uri": "https://localhost:8080/"
        }
      },
      "id": "c2BJByHoflG5",
      "execution_count": null,
      "outputs": [
        {
          "output_type": "execute_result",
          "data": {
            "text/plain": [
              "32"
            ]
          },
          "metadata": {},
          "execution_count": 31
        }
      ]
    },
    {
      "cell_type": "markdown",
      "source": [
        "Q10.Find the index of the maximum value and the index of the minimum value\n",
        "in a NumPy array"
      ],
      "metadata": {
        "id": "iZYm9ZRViCVd"
      },
      "id": "iZYm9ZRViCVd"
    },
    {
      "cell_type": "code",
      "source": [
        "arr10=np.array([1,2,3,4,5,6,7,8,9,10])"
      ],
      "metadata": {
        "id": "xe1BhfBFh7jG"
      },
      "id": "xe1BhfBFh7jG",
      "execution_count": null,
      "outputs": []
    },
    {
      "cell_type": "code",
      "source": [
        "arr10.argmax()"
      ],
      "metadata": {
        "colab": {
          "base_uri": "https://localhost:8080/"
        },
        "id": "v3W9nM9oi0Ov",
        "outputId": "78e1d6bf-19b2-46fa-cb02-1e4dd90a9575"
      },
      "id": "v3W9nM9oi0Ov",
      "execution_count": null,
      "outputs": [
        {
          "output_type": "execute_result",
          "data": {
            "text/plain": [
              "9"
            ]
          },
          "metadata": {},
          "execution_count": 39
        }
      ]
    },
    {
      "cell_type": "code",
      "source": [
        "arr10.argmin()"
      ],
      "metadata": {
        "colab": {
          "base_uri": "https://localhost:8080/"
        },
        "id": "zKSNTgBNi2sd",
        "outputId": "f8a6c2d2-9c4a-4edd-9dfe-c11452fb0358"
      },
      "id": "zKSNTgBNi2sd",
      "execution_count": null,
      "outputs": [
        {
          "output_type": "execute_result",
          "data": {
            "text/plain": [
              "0"
            ]
          },
          "metadata": {},
          "execution_count": 41
        }
      ]
    },
    {
      "cell_type": "markdown",
      "source": [
        "Q11.Concatenate two random NumPy arrays horizontally and vertically."
      ],
      "metadata": {
        "id": "B82n8RBEjUAP"
      },
      "id": "B82n8RBEjUAP"
    },
    {
      "cell_type": "code",
      "source": [
        "A=np.random.rand(4,4)\n",
        "A"
      ],
      "metadata": {
        "id": "WBIf-cSMjGdb",
        "colab": {
          "base_uri": "https://localhost:8080/"
        },
        "outputId": "14c8ab9c-e47c-4414-d0ed-32dcb4c6bd55"
      },
      "id": "WBIf-cSMjGdb",
      "execution_count": null,
      "outputs": [
        {
          "output_type": "execute_result",
          "data": {
            "text/plain": [
              "array([[0.90687753, 0.79864139, 0.86746713, 0.58998104],\n",
              "       [0.2959709 , 0.50645754, 0.96743686, 0.40297891],\n",
              "       [0.3683331 , 0.88392148, 0.79143003, 0.78336813],\n",
              "       [0.07416534, 0.58450265, 0.23612946, 0.01110146]])"
            ]
          },
          "metadata": {},
          "execution_count": 61
        }
      ]
    },
    {
      "cell_type": "code",
      "source": [
        "B=np.random.rand(4,4)\n",
        "B"
      ],
      "metadata": {
        "colab": {
          "base_uri": "https://localhost:8080/"
        },
        "id": "6_WjbysTl9gm",
        "outputId": "d4434d48-ce70-4c7e-b923-c1d586931ca3"
      },
      "id": "6_WjbysTl9gm",
      "execution_count": null,
      "outputs": [
        {
          "output_type": "execute_result",
          "data": {
            "text/plain": [
              "array([[0.87143504, 0.05531904, 0.26282504, 0.88325503],\n",
              "       [0.17699266, 0.49078239, 0.39624197, 0.25449946],\n",
              "       [0.73815492, 0.90135918, 0.86286   , 0.67255822],\n",
              "       [0.05999845, 0.54415931, 0.66872555, 0.73782055]])"
            ]
          },
          "metadata": {},
          "execution_count": 62
        }
      ]
    },
    {
      "cell_type": "code",
      "source": [
        "np.concatenate((A,B))  #vertically"
      ],
      "metadata": {
        "colab": {
          "base_uri": "https://localhost:8080/"
        },
        "id": "thqDW9dBmvEN",
        "outputId": "1b516635-4808-48d1-d65c-019554f7033d"
      },
      "id": "thqDW9dBmvEN",
      "execution_count": null,
      "outputs": [
        {
          "output_type": "execute_result",
          "data": {
            "text/plain": [
              "array([[0.90687753, 0.79864139, 0.86746713, 0.58998104],\n",
              "       [0.2959709 , 0.50645754, 0.96743686, 0.40297891],\n",
              "       [0.3683331 , 0.88392148, 0.79143003, 0.78336813],\n",
              "       [0.07416534, 0.58450265, 0.23612946, 0.01110146],\n",
              "       [0.87143504, 0.05531904, 0.26282504, 0.88325503],\n",
              "       [0.17699266, 0.49078239, 0.39624197, 0.25449946],\n",
              "       [0.73815492, 0.90135918, 0.86286   , 0.67255822],\n",
              "       [0.05999845, 0.54415931, 0.66872555, 0.73782055]])"
            ]
          },
          "metadata": {},
          "execution_count": 63
        }
      ]
    },
    {
      "cell_type": "code",
      "source": [
        "np.concatenate((A,B),axis=1)  #horizontally"
      ],
      "metadata": {
        "colab": {
          "base_uri": "https://localhost:8080/"
        },
        "id": "H2NjgUfdneFw",
        "outputId": "21b5abec-0f66-48ed-c2a4-e1cc4fc8f010"
      },
      "id": "H2NjgUfdneFw",
      "execution_count": null,
      "outputs": [
        {
          "output_type": "execute_result",
          "data": {
            "text/plain": [
              "array([[0.90687753, 0.79864139, 0.86746713, 0.58998104, 0.87143504,\n",
              "        0.05531904, 0.26282504, 0.88325503],\n",
              "       [0.2959709 , 0.50645754, 0.96743686, 0.40297891, 0.17699266,\n",
              "        0.49078239, 0.39624197, 0.25449946],\n",
              "       [0.3683331 , 0.88392148, 0.79143003, 0.78336813, 0.73815492,\n",
              "        0.90135918, 0.86286   , 0.67255822],\n",
              "       [0.07416534, 0.58450265, 0.23612946, 0.01110146, 0.05999845,\n",
              "        0.54415931, 0.66872555, 0.73782055]])"
            ]
          },
          "metadata": {},
          "execution_count": 64
        }
      ]
    },
    {
      "cell_type": "markdown",
      "source": [
        "Q12.Given a 2D NumPy array, calculate the sum of each row and each column\n",
        "separately."
      ],
      "metadata": {
        "id": "ChyLHkAXoB4X"
      },
      "id": "ChyLHkAXoB4X"
    },
    {
      "cell_type": "code",
      "source": [
        "arr1=np.array([[4,5,6],[7,8,9],[1,2,3]])\n",
        "arr1"
      ],
      "metadata": {
        "id": "SL5piiPQnnT4",
        "colab": {
          "base_uri": "https://localhost:8080/"
        },
        "outputId": "8523c3bf-09ac-4956-b35e-666856e6a6f1"
      },
      "id": "SL5piiPQnnT4",
      "execution_count": 43,
      "outputs": [
        {
          "output_type": "execute_result",
          "data": {
            "text/plain": [
              "array([[4, 5, 6],\n",
              "       [7, 8, 9],\n",
              "       [1, 2, 3]])"
            ]
          },
          "metadata": {},
          "execution_count": 43
        }
      ]
    },
    {
      "cell_type": "code",
      "source": [
        "arra=arr1[0:1,[0,1,2]]  #first row"
      ],
      "metadata": {
        "id": "RDPGyi3bV94n"
      },
      "id": "RDPGyi3bV94n",
      "execution_count": 45,
      "outputs": []
    },
    {
      "cell_type": "code",
      "source": [
        "arra.sum()"
      ],
      "metadata": {
        "colab": {
          "base_uri": "https://localhost:8080/"
        },
        "id": "eG6wGRZfwMt0",
        "outputId": "caf570da-c77a-4a59-a7c4-399401bcf898"
      },
      "id": "eG6wGRZfwMt0",
      "execution_count": 52,
      "outputs": [
        {
          "output_type": "execute_result",
          "data": {
            "text/plain": [
              "15"
            ]
          },
          "metadata": {},
          "execution_count": 52
        }
      ]
    },
    {
      "cell_type": "code",
      "source": [
        "arrb=arr1[1:2,[0,1,2]]  #second row"
      ],
      "metadata": {
        "id": "_B2uSgjLwbid"
      },
      "id": "_B2uSgjLwbid",
      "execution_count": 47,
      "outputs": []
    },
    {
      "cell_type": "code",
      "source": [
        "arrb.sum()"
      ],
      "metadata": {
        "colab": {
          "base_uri": "https://localhost:8080/"
        },
        "id": "s-uz0SLywh8s",
        "outputId": "470da516-3f9d-4ad5-a332-ccc62a507e03"
      },
      "id": "s-uz0SLywh8s",
      "execution_count": 53,
      "outputs": [
        {
          "output_type": "execute_result",
          "data": {
            "text/plain": [
              "24"
            ]
          },
          "metadata": {},
          "execution_count": 53
        }
      ]
    },
    {
      "cell_type": "code",
      "source": [
        "arrc=arr1[2:3,[0,1,2]]  #third row"
      ],
      "metadata": {
        "id": "G6BVq3ZewqEU"
      },
      "id": "G6BVq3ZewqEU",
      "execution_count": 49,
      "outputs": []
    },
    {
      "cell_type": "code",
      "source": [
        "arrc.sum()"
      ],
      "metadata": {
        "colab": {
          "base_uri": "https://localhost:8080/"
        },
        "id": "VsLd-fQ-w6qv",
        "outputId": "e470f2e4-d48b-41da-d06a-2c0bbca8dc37"
      },
      "id": "VsLd-fQ-w6qv",
      "execution_count": 51,
      "outputs": [
        {
          "output_type": "execute_result",
          "data": {
            "text/plain": [
              "6"
            ]
          },
          "metadata": {},
          "execution_count": 51
        }
      ]
    },
    {
      "cell_type": "code",
      "source": [
        "arra=arr1[:,[0]]   #first column"
      ],
      "metadata": {
        "id": "TXzlnVnixE-9"
      },
      "id": "TXzlnVnixE-9",
      "execution_count": 55,
      "outputs": []
    },
    {
      "cell_type": "code",
      "source": [
        "arra.sum()"
      ],
      "metadata": {
        "colab": {
          "base_uri": "https://localhost:8080/"
        },
        "id": "S1O1QisuxQVl",
        "outputId": "cd542fb7-6801-4489-ab53-9a61c8709968"
      },
      "id": "S1O1QisuxQVl",
      "execution_count": 56,
      "outputs": [
        {
          "output_type": "execute_result",
          "data": {
            "text/plain": [
              "12"
            ]
          },
          "metadata": {},
          "execution_count": 56
        }
      ]
    },
    {
      "cell_type": "code",
      "source": [
        "arrb=arr1[:,[1]]   #second column"
      ],
      "metadata": {
        "id": "Z6Cj6HHFxoSt"
      },
      "id": "Z6Cj6HHFxoSt",
      "execution_count": 57,
      "outputs": []
    },
    {
      "cell_type": "code",
      "source": [
        "arrb.sum()"
      ],
      "metadata": {
        "colab": {
          "base_uri": "https://localhost:8080/"
        },
        "id": "Vsr5MefqxrpH",
        "outputId": "cf702561-adbf-4520-952d-c86567672b2e"
      },
      "id": "Vsr5MefqxrpH",
      "execution_count": 58,
      "outputs": [
        {
          "output_type": "execute_result",
          "data": {
            "text/plain": [
              "15"
            ]
          },
          "metadata": {},
          "execution_count": 58
        }
      ]
    },
    {
      "cell_type": "code",
      "source": [
        "arrc=arr1[:,[2]]   #third column"
      ],
      "metadata": {
        "id": "rdvxxM7axw0Q"
      },
      "id": "rdvxxM7axw0Q",
      "execution_count": 59,
      "outputs": []
    },
    {
      "cell_type": "code",
      "source": [
        "arrc.sum()"
      ],
      "metadata": {
        "colab": {
          "base_uri": "https://localhost:8080/"
        },
        "id": "-N4st5I6x0MW",
        "outputId": "02f561f8-e72e-42d0-a46f-0d76459f40f3"
      },
      "id": "-N4st5I6x0MW",
      "execution_count": 60,
      "outputs": [
        {
          "output_type": "execute_result",
          "data": {
            "text/plain": [
              "18"
            ]
          },
          "metadata": {},
          "execution_count": 60
        }
      ]
    },
    {
      "cell_type": "markdown",
      "source": [
        "Q13.Find the common elements between two NumPy arrays."
      ],
      "metadata": {
        "id": "PZzICFRSJrh_"
      },
      "id": "PZzICFRSJrh_"
    },
    {
      "cell_type": "code",
      "source": [
        "arr1=np.array([5,8,11,10,6,4])\n",
        "arr2=np.array([1,2,3,4,5,6])"
      ],
      "metadata": {
        "id": "4DVfEoV0Jylv"
      },
      "id": "4DVfEoV0Jylv",
      "execution_count": null,
      "outputs": []
    },
    {
      "cell_type": "code",
      "source": [
        "arr1"
      ],
      "metadata": {
        "colab": {
          "base_uri": "https://localhost:8080/"
        },
        "id": "VMxr1jGuvXvs",
        "outputId": "9698f39e-6adb-4db6-f326-94530842304c"
      },
      "id": "VMxr1jGuvXvs",
      "execution_count": null,
      "outputs": [
        {
          "output_type": "execute_result",
          "data": {
            "text/plain": [
              "array([ 5,  8, 11, 10,  6,  4])"
            ]
          },
          "metadata": {},
          "execution_count": 14
        }
      ]
    },
    {
      "cell_type": "code",
      "source": [
        "arr2"
      ],
      "metadata": {
        "colab": {
          "base_uri": "https://localhost:8080/"
        },
        "id": "-JEznfnfvZzb",
        "outputId": "e84eabdf-254a-4389-cdc1-d1c883fa64d5"
      },
      "id": "-JEznfnfvZzb",
      "execution_count": null,
      "outputs": [
        {
          "output_type": "execute_result",
          "data": {
            "text/plain": [
              "array([1, 2, 3, 4, 5, 6])"
            ]
          },
          "metadata": {},
          "execution_count": 15
        }
      ]
    },
    {
      "cell_type": "code",
      "source": [
        "np.intersect1d(arr1,arr2)"
      ],
      "metadata": {
        "colab": {
          "base_uri": "https://localhost:8080/"
        },
        "id": "2f31AzCUvbaj",
        "outputId": "c820cae5-32c0-4d55-aa0c-e679c95c529f"
      },
      "id": "2f31AzCUvbaj",
      "execution_count": null,
      "outputs": [
        {
          "output_type": "execute_result",
          "data": {
            "text/plain": [
              "array([4, 5, 6])"
            ]
          },
          "metadata": {},
          "execution_count": 16
        }
      ]
    },
    {
      "cell_type": "markdown",
      "source": [
        "Q14.Replace all negative values in a NumPy array with zeros."
      ],
      "metadata": {
        "id": "VA_6XmwxJzm9"
      },
      "id": "VA_6XmwxJzm9"
    },
    {
      "cell_type": "code",
      "source": [
        "arr14=np.array([-5,-4,-3,-2,-1,1,2,3,4,5])\n",
        "arr14"
      ],
      "metadata": {
        "colab": {
          "base_uri": "https://localhost:8080/"
        },
        "id": "k25FhtK3J3X8",
        "outputId": "8f2990ff-a314-442a-dfc1-391affde6dec"
      },
      "id": "k25FhtK3J3X8",
      "execution_count": null,
      "outputs": [
        {
          "output_type": "execute_result",
          "data": {
            "text/plain": [
              "array([-5, -4, -3, -2, -1,  1,  2,  3,  4,  5])"
            ]
          },
          "metadata": {},
          "execution_count": 10
        }
      ]
    },
    {
      "cell_type": "code",
      "source": [
        "arr14[arr14<0]=0\n",
        "arr14"
      ],
      "metadata": {
        "colab": {
          "base_uri": "https://localhost:8080/"
        },
        "id": "t7_PSmLxKLG5",
        "outputId": "80a2e403-5ddc-4b2a-c259-27056eae2101"
      },
      "id": "t7_PSmLxKLG5",
      "execution_count": null,
      "outputs": [
        {
          "output_type": "execute_result",
          "data": {
            "text/plain": [
              "array([0, 0, 0, 0, 0, 1, 2, 3, 4, 5])"
            ]
          },
          "metadata": {},
          "execution_count": 11
        }
      ]
    },
    {
      "cell_type": "markdown",
      "source": [
        "Q15.Create a NumPy array with random integers between 1 and 100 and then\n",
        "sort it in ascending order"
      ],
      "metadata": {
        "id": "IgEQvV_jKwpe"
      },
      "id": "IgEQvV_jKwpe"
    },
    {
      "cell_type": "code",
      "source": [
        "arr15=np.random.randint(1,101,100)\n",
        "arr15"
      ],
      "metadata": {
        "colab": {
          "base_uri": "https://localhost:8080/"
        },
        "id": "PlRs2mZ7Ki42",
        "outputId": "146ead2a-c685-48ce-dbd4-095ef84cefdc"
      },
      "id": "PlRs2mZ7Ki42",
      "execution_count": null,
      "outputs": [
        {
          "output_type": "execute_result",
          "data": {
            "text/plain": [
              "array([ 69,  42,   1,  93,  46,  92,  85,  60,  57,  79,  46,  97,  53,\n",
              "        45,  17,  46,  99,  90,  85,  41,  52,  53,  38,  33,  57,  61,\n",
              "        35,  43,  23,  47,  67,  77,  59,  86,  54,  32,  96,   4,  67,\n",
              "         5,  85,  52,   3,  80,  73,  25,  27,  43,  49,  58,  52, 100,\n",
              "        85,  67, 100,  36,  32,  31,  70,  17,  43,  31,   5,  58,  12,\n",
              "        35,  21,  13,  30,  27,   6,   2,  43,   3,  53,  91,  16,  30,\n",
              "        40,  49,  18,  10,   6,  28,  78,  93,  77,   1,  22,  15,   7,\n",
              "        29,  51,  19,  34,  23,  78,  21,  13,  54])"
            ]
          },
          "metadata": {},
          "execution_count": 15
        }
      ]
    },
    {
      "cell_type": "code",
      "source": [
        "arr15.sort()\n",
        "arr15"
      ],
      "metadata": {
        "id": "UeSM22P2K7UL",
        "colab": {
          "base_uri": "https://localhost:8080/"
        },
        "outputId": "263a3000-c2d2-4b10-e4c2-f583fbbe111d"
      },
      "id": "UeSM22P2K7UL",
      "execution_count": null,
      "outputs": [
        {
          "output_type": "execute_result",
          "data": {
            "text/plain": [
              "array([  1,   1,   2,   3,   3,   4,   5,   5,   6,   6,   7,  10,  12,\n",
              "        13,  13,  15,  16,  17,  17,  18,  19,  21,  21,  22,  23,  23,\n",
              "        25,  27,  27,  28,  29,  30,  30,  31,  31,  32,  32,  33,  34,\n",
              "        35,  35,  36,  38,  40,  41,  42,  43,  43,  43,  43,  45,  46,\n",
              "        46,  46,  47,  49,  49,  51,  52,  52,  52,  53,  53,  53,  54,\n",
              "        54,  57,  57,  58,  58,  59,  60,  61,  67,  67,  67,  69,  70,\n",
              "        73,  77,  77,  78,  78,  79,  80,  85,  85,  85,  85,  86,  90,\n",
              "        91,  92,  93,  93,  96,  97,  99, 100, 100])"
            ]
          },
          "metadata": {},
          "execution_count": 17
        }
      ]
    },
    {
      "cell_type": "markdown",
      "source": [
        "Q16.Calculate the element-wise absolute difference between two NumPy\n",
        "arrays."
      ],
      "metadata": {
        "id": "4j3cWGaFMMUu"
      },
      "id": "4j3cWGaFMMUu"
    },
    {
      "cell_type": "code",
      "source": [
        "arr1=np.array([6,7,8,9,-10])\n",
        "arr2=np.array([1,2,3,4,5])"
      ],
      "metadata": {
        "id": "q-kBAfkOMGGc"
      },
      "id": "q-kBAfkOMGGc",
      "execution_count": 79,
      "outputs": []
    },
    {
      "cell_type": "code",
      "source": [
        "arr1"
      ],
      "metadata": {
        "colab": {
          "base_uri": "https://localhost:8080/"
        },
        "id": "bb2NvLjlMm_M",
        "outputId": "55d36a63-bf3c-4bbc-ffa0-d9fb636c0aa4"
      },
      "id": "bb2NvLjlMm_M",
      "execution_count": 80,
      "outputs": [
        {
          "output_type": "execute_result",
          "data": {
            "text/plain": [
              "array([  6,   7,   8,   9, -10])"
            ]
          },
          "metadata": {},
          "execution_count": 80
        }
      ]
    },
    {
      "cell_type": "code",
      "source": [
        "arr2"
      ],
      "metadata": {
        "colab": {
          "base_uri": "https://localhost:8080/"
        },
        "id": "NlPHq1upMof6",
        "outputId": "021e99d4-043a-4e1f-996e-8a72fd58a2cf"
      },
      "id": "NlPHq1upMof6",
      "execution_count": 81,
      "outputs": [
        {
          "output_type": "execute_result",
          "data": {
            "text/plain": [
              "array([1, 2, 3, 4, 5])"
            ]
          },
          "metadata": {},
          "execution_count": 81
        }
      ]
    },
    {
      "cell_type": "code",
      "source": [
        "arr3=np.abs(arr1-arr2)\n",
        "arr3"
      ],
      "metadata": {
        "colab": {
          "base_uri": "https://localhost:8080/"
        },
        "id": "5b7n6LG4MtIi",
        "outputId": "3d111509-2028-4ea4-b68b-9e63fc4b163b"
      },
      "id": "5b7n6LG4MtIi",
      "execution_count": 82,
      "outputs": [
        {
          "output_type": "execute_result",
          "data": {
            "text/plain": [
              "array([ 5,  5,  5,  5, 15])"
            ]
          },
          "metadata": {},
          "execution_count": 82
        }
      ]
    },
    {
      "cell_type": "markdown",
      "source": [
        "Q17.Given a 2D NumPy array, extract the first row and the last column"
      ],
      "metadata": {
        "id": "2h0t_OuQM5vG"
      },
      "id": "2h0t_OuQM5vG"
    },
    {
      "cell_type": "code",
      "source": [
        "arr1=np.array([[2,5,6,7,8,5,4,9],[5,6,7,11,13,8,12,10]])\n",
        "arr1"
      ],
      "metadata": {
        "colab": {
          "base_uri": "https://localhost:8080/"
        },
        "id": "pGiYEOb6MwmB",
        "outputId": "4059d2d7-03f8-440f-a682-fedd9e10aa65"
      },
      "id": "pGiYEOb6MwmB",
      "execution_count": null,
      "outputs": [
        {
          "output_type": "execute_result",
          "data": {
            "text/plain": [
              "array([[ 2,  5,  6,  7,  8,  5,  4,  9],\n",
              "       [ 5,  6,  7, 11, 13,  8, 12, 10]])"
            ]
          },
          "metadata": {},
          "execution_count": 44
        }
      ]
    },
    {
      "cell_type": "code",
      "source": [
        "arr1[:,[7]]    #last column"
      ],
      "metadata": {
        "colab": {
          "base_uri": "https://localhost:8080/"
        },
        "id": "Liljy5dTNYLF",
        "outputId": "7621995a-2b6f-4ddf-f096-e300395a3f01"
      },
      "id": "Liljy5dTNYLF",
      "execution_count": null,
      "outputs": [
        {
          "output_type": "execute_result",
          "data": {
            "text/plain": [
              "array([[ 9],\n",
              "       [10]])"
            ]
          },
          "metadata": {},
          "execution_count": 39
        }
      ]
    },
    {
      "cell_type": "code",
      "source": [
        "arr1[0:1,[0,1,2,3,4,5,6,7]]    #first row"
      ],
      "metadata": {
        "colab": {
          "base_uri": "https://localhost:8080/"
        },
        "id": "9SWYyiuTNndv",
        "outputId": "01f285d5-81b6-47f8-c402-90d16f8d449e"
      },
      "id": "9SWYyiuTNndv",
      "execution_count": null,
      "outputs": [
        {
          "output_type": "execute_result",
          "data": {
            "text/plain": [
              "array([[2, 5, 6, 7, 8, 5, 4, 9]])"
            ]
          },
          "metadata": {},
          "execution_count": 38
        }
      ]
    },
    {
      "cell_type": "markdown",
      "source": [
        "Q18.Slice a 1D NumPy array to get every other element"
      ],
      "metadata": {
        "id": "wcf8W-lcPzXH"
      },
      "id": "wcf8W-lcPzXH"
    },
    {
      "cell_type": "code",
      "source": [
        "arr1=np.array([1,2,3,4,5,6,7,8])\n",
        "arr1"
      ],
      "metadata": {
        "id": "tNua0ZgVOLZz",
        "colab": {
          "base_uri": "https://localhost:8080/"
        },
        "outputId": "60702eab-02bb-440c-d3e7-03d912ef2b61"
      },
      "id": "tNua0ZgVOLZz",
      "execution_count": 62,
      "outputs": [
        {
          "output_type": "execute_result",
          "data": {
            "text/plain": [
              "array([1, 2, 3, 4, 5, 6, 7, 8])"
            ]
          },
          "metadata": {},
          "execution_count": 62
        }
      ]
    },
    {
      "cell_type": "code",
      "source": [
        "arr1[0:9:2]"
      ],
      "metadata": {
        "id": "WnHwM0foUhOe",
        "colab": {
          "base_uri": "https://localhost:8080/"
        },
        "outputId": "d958a808-c8f3-444d-d264-31706220294a"
      },
      "id": "WnHwM0foUhOe",
      "execution_count": 66,
      "outputs": [
        {
          "output_type": "execute_result",
          "data": {
            "text/plain": [
              "array([1, 3, 5, 7])"
            ]
          },
          "metadata": {},
          "execution_count": 66
        }
      ]
    },
    {
      "cell_type": "markdown",
      "source": [
        "Q19.Given a 2D NumPy array, extract a subarray consisting of the central 2x2\n",
        "elements."
      ],
      "metadata": {
        "id": "PbDHx-eBP9af"
      },
      "id": "PbDHx-eBP9af"
    },
    {
      "cell_type": "code",
      "source": [
        "arr19=np.array([[1,2,3,4],[5,6,7,8],[9,10,11,12],[13,14,15,16]])\n",
        "arr19"
      ],
      "metadata": {
        "id": "kyrZ7uQ4QCgn",
        "colab": {
          "base_uri": "https://localhost:8080/"
        },
        "outputId": "652e6dde-6794-4282-97fe-f32fb62dcf01"
      },
      "id": "kyrZ7uQ4QCgn",
      "execution_count": null,
      "outputs": [
        {
          "output_type": "execute_result",
          "data": {
            "text/plain": [
              "array([[ 1,  2,  3,  4],\n",
              "       [ 5,  6,  7,  8],\n",
              "       [ 9, 10, 11, 12],\n",
              "       [13, 14, 15, 16]])"
            ]
          },
          "metadata": {},
          "execution_count": 9
        }
      ]
    },
    {
      "cell_type": "code",
      "source": [
        "arr19[1:3,[1,2]]"
      ],
      "metadata": {
        "colab": {
          "base_uri": "https://localhost:8080/"
        },
        "id": "8QYsYtNXuUud",
        "outputId": "b69b9833-18f5-494d-d4eb-7167f0dca50c"
      },
      "id": "8QYsYtNXuUud",
      "execution_count": null,
      "outputs": [
        {
          "output_type": "execute_result",
          "data": {
            "text/plain": [
              "array([[ 6,  7],\n",
              "       [10, 11]])"
            ]
          },
          "metadata": {},
          "execution_count": 10
        }
      ]
    },
    {
      "cell_type": "markdown",
      "source": [
        "Q20.Reverse a 1D NumPy array using slicing."
      ],
      "metadata": {
        "id": "NXKXBDTkQJ6U"
      },
      "id": "NXKXBDTkQJ6U"
    },
    {
      "cell_type": "code",
      "source": [
        "arr20=np.array([1,3,5,7,9])\n",
        "arr20"
      ],
      "metadata": {
        "id": "0eiq5QOiQP88",
        "colab": {
          "base_uri": "https://localhost:8080/"
        },
        "outputId": "c174dbb3-a767-47c1-a5ed-fbb58e6f44a2"
      },
      "id": "0eiq5QOiQP88",
      "execution_count": null,
      "outputs": [
        {
          "output_type": "execute_result",
          "data": {
            "text/plain": [
              "array([1, 3, 5, 7, 9])"
            ]
          },
          "metadata": {},
          "execution_count": 11
        }
      ]
    },
    {
      "cell_type": "code",
      "source": [
        "arr20[::-1]"
      ],
      "metadata": {
        "colab": {
          "base_uri": "https://localhost:8080/"
        },
        "id": "W6p-H5dQul1_",
        "outputId": "2ce4141e-e1a5-4cc7-ebce-425535dcf1e2"
      },
      "id": "W6p-H5dQul1_",
      "execution_count": null,
      "outputs": [
        {
          "output_type": "execute_result",
          "data": {
            "text/plain": [
              "array([9, 7, 5, 3, 1])"
            ]
          },
          "metadata": {},
          "execution_count": 12
        }
      ]
    }
  ],
  "metadata": {
    "kernelspec": {
      "display_name": "Python 3 (ipykernel)",
      "language": "python",
      "name": "python3"
    },
    "language_info": {
      "codemirror_mode": {
        "name": "ipython",
        "version": 3
      },
      "file_extension": ".py",
      "mimetype": "text/x-python",
      "name": "python",
      "nbconvert_exporter": "python",
      "pygments_lexer": "ipython3",
      "version": "3.11.5"
    },
    "colab": {
      "provenance": []
    }
  },
  "nbformat": 4,
  "nbformat_minor": 5
}